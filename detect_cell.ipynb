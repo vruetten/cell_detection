{
 "cells": [
  {
   "cell_type": "code",
   "execution_count": 2,
   "metadata": {},
   "outputs": [],
   "source": [
    "# %load '/Users/virginiarutten/Documents/code/utils/template.py'\n",
    "from __future__ import print_function\n",
    "import matplotlib.pyplot as pl\n",
    "import pyqtgraph as pg\n",
    "import matplotlib as mpl\n",
    "import seaborn as sns\n",
    "import numpy as np\n",
    "from imp import reload\n",
    "import os, sys\n",
    "import cv2\n",
    "from PyQt5 import QtCore\n",
    "from imageio import imwrite\n",
    "np.set_printoptions(precision=3, suppress=1)\n",
    "sns.set()\n",
    "sns.set_style(\"whitegrid\", {'axes.grid' : False})\n",
    "%matplotlib inline\n",
    "%gui qt"
   ]
  },
  {
   "cell_type": "code",
   "execution_count": 3,
   "metadata": {},
   "outputs": [],
   "source": [
    "from MyImageViewer import MyImageViewer as im\n",
    "from MyCellDetector import MyCellDetector as mcd"
   ]
  },
  {
   "cell_type": "code",
   "execution_count": 4,
   "metadata": {},
   "outputs": [],
   "source": [
    "def rload(module):\n",
    "    reload(sys.modules[module.__name__])"
   ]
  },
  {
   "cell_type": "markdown",
   "metadata": {},
   "source": [
    "#### define image path"
   ]
  },
  {
   "cell_type": "code",
   "execution_count": 5,
   "metadata": {},
   "outputs": [],
   "source": [
    "file_path = './images/Cellcounting_Example.jpeg'\n",
    "results_path = './results/'"
   ]
  },
  {
   "cell_type": "markdown",
   "metadata": {},
   "source": [
    "#### create our cell detector"
   ]
  },
  {
   "cell_type": "code",
   "execution_count": 6,
   "metadata": {},
   "outputs": [],
   "source": [
    "C = mcd()"
   ]
  },
  {
   "cell_type": "markdown",
   "metadata": {},
   "source": [
    "#### load image - convert to grayscale - blur"
   ]
  },
  {
   "cell_type": "code",
   "execution_count": 7,
   "metadata": {},
   "outputs": [],
   "source": [
    "frame = C.read_file(file_path)\n",
    "gray = C.gray_frame(frame)\n",
    "blur = C.blur_frame(gray, kernel = (3,3), filterType = 'median')"
   ]
  },
  {
   "cell_type": "code",
   "execution_count": 8,
   "metadata": {},
   "outputs": [],
   "source": [
    "fr_im = im(frame)\n",
    "bl_im = im(blur)"
   ]
  },
  {
   "cell_type": "code",
   "execution_count": 10,
   "metadata": {},
   "outputs": [],
   "source": [
    "imwrite(results_path + 'orginal.png', frame)\n",
    "imwrite(results_path + 'blur.png', blur)"
   ]
  },
  {
   "cell_type": "markdown",
   "metadata": {},
   "source": [
    "#### set rough threshold"
   ]
  },
  {
   "cell_type": "code",
   "execution_count": 11,
   "metadata": {},
   "outputs": [
    {
     "name": "stdout",
     "output_type": "stream",
     "text": [
      "99th percentile: 1.0\n"
     ]
    }
   ],
   "source": [
    "perc= 99\n",
    "pVal_l = C.get_percentile(blur, perc = perc)\n",
    "print('{0}th percentile: {1}'.format(perc, pVal_l))\n",
    "pVal_l = 4"
   ]
  },
  {
   "cell_type": "markdown",
   "metadata": {},
   "source": [
    "#### morphological operators: mask, erode and dilate"
   ]
  },
  {
   "cell_type": "code",
   "execution_count": 12,
   "metadata": {},
   "outputs": [],
   "source": [
    "mask, masked =  C.mask_frame(blur, pVal_l = pVal_l)"
   ]
  },
  {
   "cell_type": "code",
   "execution_count": 14,
   "metadata": {},
   "outputs": [],
   "source": [
    "def scale(im):\n",
    "    max_ = im.max()\n",
    "    return (im/max_*255).astype('uint8')"
   ]
  },
  {
   "cell_type": "code",
   "execution_count": 16,
   "metadata": {},
   "outputs": [],
   "source": [
    "imwrite(results_path + 'raw_mask_' +str(pVal_l) + '.png', scale(mask))\n",
    "imwrite(results_path + 'masked_' +str(pVal_l) + '.png', scale(masked))"
   ]
  },
  {
   "cell_type": "code",
   "execution_count": 17,
   "metadata": {},
   "outputs": [],
   "source": [
    "### this erodes/dilated the mask itself\n",
    "eMask = C.erode_frame(mask, ker = 5)\n",
    "dMask = C.dilate_frame(eMask, ker = 5)\n",
    "\n",
    "### this erodes/dilated the masked image\n",
    "eFr = C.erode_frame(masked, ker = 5)\n",
    "dFr = C.dilate_frame(eFr, ker = 5)"
   ]
  },
  {
   "cell_type": "markdown",
   "metadata": {},
   "source": [
    "#### visualise"
   ]
  },
  {
   "cell_type": "code",
   "execution_count": 18,
   "metadata": {},
   "outputs": [],
   "source": [
    "m_im = im(mask, 'mask')\n",
    "e_im = im(eMask, 'eroded')\n",
    "d_im = im(dMask, 'eroded + dilated')"
   ]
  },
  {
   "cell_type": "code",
   "execution_count": 19,
   "metadata": {},
   "outputs": [],
   "source": [
    "mF_im = im(masked, 'mask')\n",
    "eF_im = im(eFr, 'eroded')\n",
    "dF_im = im(dFr, 'eroded + dilated')"
   ]
  },
  {
   "cell_type": "code",
   "execution_count": 20,
   "metadata": {},
   "outputs": [],
   "source": [
    "rload(mcd)\n",
    "from MyCellDetector import MyCellDetector as mcd\n",
    "C = mcd()"
   ]
  },
  {
   "cell_type": "markdown",
   "metadata": {},
   "source": [
    "#### detect contours and filter on area size\n",
    "(we can also filter on convextity/other criteria if you want)"
   ]
  },
  {
   "cell_type": "code",
   "execution_count": 21,
   "metadata": {},
   "outputs": [],
   "source": [
    "area_mn = 4\n",
    "area_mx = 1e10"
   ]
  },
  {
   "cell_type": "code",
   "execution_count": 22,
   "metadata": {},
   "outputs": [],
   "source": [
    "### finds keypoints of eroded + dilated masked image\n",
    "keypoints = C.countour_frame(dFr, area_mn = area_mn, area_mx = area_mx, keypoints = {})\n",
    "### finds keypoints of eroded + dilated mask\n",
    "keypointsMask = C.countour_frame(dMask, area_mn = area_mn, area_mx = area_mx, keypoints = {})"
   ]
  },
  {
   "cell_type": "markdown",
   "metadata": {},
   "source": [
    "#### overlay"
   ]
  },
  {
   "cell_type": "code",
   "execution_count": 23,
   "metadata": {},
   "outputs": [],
   "source": [
    "def saturate(frame, max_ = 20):\n",
    "    fr = frame.copy()\n",
    "    fr[fr>max_] = max_\n",
    "    return fr.astype('uint8')"
   ]
  },
  {
   "cell_type": "code",
   "execution_count": 25,
   "metadata": {},
   "outputs": [],
   "source": [
    "dispImCont, dispImCenter, dispImBox = C.print_keypoints(keypoints[0],frame, col = (0,100,0))\n",
    "dispMaskCont, dispMaskCenter, dispMaskBox = C.print_keypoints(keypoints[0],mask*255,  col = (255,0,0))"
   ]
  },
  {
   "cell_type": "code",
   "execution_count": 27,
   "metadata": {},
   "outputs": [],
   "source": [
    "ims = [dispImCont, dispImCenter, dispImBox,dispMaskCont, dispMaskCenter, dispMaskBox]"
   ]
  },
  {
   "cell_type": "code",
   "execution_count": 29,
   "metadata": {},
   "outputs": [],
   "source": [
    "scaled_ims = [scale(saturate(my_image)) for my_image in ims]"
   ]
  },
  {
   "cell_type": "code",
   "execution_count": 31,
   "metadata": {},
   "outputs": [],
   "source": [
    "names = ['detection_wContours_', 'detection_wCenters_', 'detection_wBox_',\\\n",
    "         'mask_wContours_', 'mask_wCenters_' ,  'mask_wBox_']"
   ]
  },
  {
   "cell_type": "code",
   "execution_count": 32,
   "metadata": {},
   "outputs": [
    {
     "ename": "TypeError",
     "evalue": "imwrite() missing 1 required positional argument: 'im'",
     "output_type": "error",
     "traceback": [
      "\u001b[0;31m------------------------------------------------------------------------\u001b[0m",
      "\u001b[0;31mTypeError\u001b[0m                              Traceback (most recent call last)",
      "\u001b[0;32m<ipython-input-32-51b188250eab>\u001b[0m in \u001b[0;36m<module>\u001b[0;34m()\u001b[0m\n\u001b[0;32m----> 1\u001b[0;31m \u001b[0;34m[\u001b[0m\u001b[0mimwrite\u001b[0m\u001b[0;34m(\u001b[0m\u001b[0mresults_path\u001b[0m \u001b[0;34m+\u001b[0m \u001b[0mnames\u001b[0m\u001b[0;34m[\u001b[0m\u001b[0mind\u001b[0m\u001b[0;34m]\u001b[0m \u001b[0;34m+\u001b[0m\u001b[0mstr\u001b[0m\u001b[0;34m(\u001b[0m\u001b[0mpVal_l\u001b[0m\u001b[0;34m)\u001b[0m \u001b[0;34m+\u001b[0m \u001b[0;34m'.png'\u001b[0m\u001b[0;34m)\u001b[0m  \u001b[0;32mfor\u001b[0m \u001b[0mind\u001b[0m\u001b[0;34m,\u001b[0m \u001b[0mim_\u001b[0m \u001b[0;32min\u001b[0m \u001b[0menumerate\u001b[0m\u001b[0;34m(\u001b[0m\u001b[0mscaled_ims\u001b[0m\u001b[0;34m)\u001b[0m\u001b[0;34m]\u001b[0m\u001b[0;34m\u001b[0m\u001b[0m\n\u001b[0m",
      "\u001b[0;32m<ipython-input-32-51b188250eab>\u001b[0m in \u001b[0;36m<listcomp>\u001b[0;34m(.0)\u001b[0m\n\u001b[0;32m----> 1\u001b[0;31m \u001b[0;34m[\u001b[0m\u001b[0mimwrite\u001b[0m\u001b[0;34m(\u001b[0m\u001b[0mresults_path\u001b[0m \u001b[0;34m+\u001b[0m \u001b[0mnames\u001b[0m\u001b[0;34m[\u001b[0m\u001b[0mind\u001b[0m\u001b[0;34m]\u001b[0m \u001b[0;34m+\u001b[0m\u001b[0mstr\u001b[0m\u001b[0;34m(\u001b[0m\u001b[0mpVal_l\u001b[0m\u001b[0;34m)\u001b[0m \u001b[0;34m+\u001b[0m \u001b[0;34m'.png'\u001b[0m\u001b[0;34m)\u001b[0m  \u001b[0;32mfor\u001b[0m \u001b[0mind\u001b[0m\u001b[0;34m,\u001b[0m \u001b[0mim_\u001b[0m \u001b[0;32min\u001b[0m \u001b[0menumerate\u001b[0m\u001b[0;34m(\u001b[0m\u001b[0mscaled_ims\u001b[0m\u001b[0;34m)\u001b[0m\u001b[0;34m]\u001b[0m\u001b[0;34m\u001b[0m\u001b[0m\n\u001b[0m",
      "\u001b[0;31mTypeError\u001b[0m: imwrite() missing 1 required positional argument: 'im'"
     ]
    }
   ],
   "source": [
    "[imwrite(results_path + names[ind] +str(pVal_l) + '.png')  for ind, im_ in enumerate(scaled_ims)]"
   ]
  },
  {
   "cell_type": "code",
   "execution_count": null,
   "metadata": {},
   "outputs": [],
   "source": [
    "t2 = im(saturate(dispImCenter))"
   ]
  },
  {
   "cell_type": "code",
   "execution_count": null,
   "metadata": {},
   "outputs": [],
   "source": [
    "t1 = im(saturate(dispImCont))\n",
    "t3 = im(saturate(dispImBox))"
   ]
  },
  {
   "cell_type": "code",
   "execution_count": null,
   "metadata": {},
   "outputs": [],
   "source": [
    "t1 = im(dispMaskCont)\n",
    "t2 = im(dispMaskCenter)\n",
    "t3 = im(dispMaskBox)"
   ]
  }
 ],
 "metadata": {
  "kernelspec": {
   "display_name": "Python [default]",
   "language": "python",
   "name": "python3"
  },
  "language_info": {
   "codemirror_mode": {
    "name": "ipython",
    "version": 3
   },
   "file_extension": ".py",
   "mimetype": "text/x-python",
   "name": "python",
   "nbconvert_exporter": "python",
   "pygments_lexer": "ipython3",
   "version": "3.5.3"
  }
 },
 "nbformat": 4,
 "nbformat_minor": 2
}
