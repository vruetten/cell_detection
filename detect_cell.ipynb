{
 "cells": [
  {
   "cell_type": "code",
   "execution_count": 1,
   "metadata": {},
   "outputs": [],
   "source": [
    "# %load '/Users/virginiarutten/Documents/code/utils/template.py'\n",
    "from __future__ import print_function\n",
    "import matplotlib.pyplot as pl\n",
    "import pyqtgraph as pg\n",
    "import matplotlib as mpl\n",
    "import seaborn as sns\n",
    "import numpy as np\n",
    "from imp import reload\n",
    "import os, sys\n",
    "import cv2\n",
    "from PyQt5 import QtCore\n",
    "from imageio import imwrite\n",
    "np.set_printoptions(precision=3, suppress=1)\n",
    "sns.set()\n",
    "sns.set_style(\"whitegrid\", {'axes.grid' : False})\n",
    "%matplotlib inline\n",
    "%gui qt"
   ]
  },
  {
   "cell_type": "code",
   "execution_count": 2,
   "metadata": {},
   "outputs": [],
   "source": [
    "from MyImageViewer import MyImageViewer as im\n",
    "from MyCellDetector import MyCellDetector as mcd"
   ]
  },
  {
   "cell_type": "code",
   "execution_count": 34,
   "metadata": {},
   "outputs": [],
   "source": [
    "def rload(module):\n",
    "    reload(sys.modules[module.__name__])\n",
    "def scale(im):\n",
    "    max_ = im.max()\n",
    "    return (im/max_*255).astype('uint8')\n",
    "def saturate(frame, max_ = 20):\n",
    "    fr = frame.copy()\n",
    "    fr[fr>max_] = max_\n",
    "    return fr.astype('uint8')\n",
    "def write2im(im):\n",
    "    im_wText = cv2.putText(im.swapaxes(0,1).copy(), \"# cells: {}\".format(keypoints[0]['num']),\\\n",
    "            (10,100), cv2.FONT_HERSHEY_DUPLEX, 2, (255, 255, 255), 2)\n",
    "    return im_wText.swapaxes(0,1)"
   ]
  },
  {
   "cell_type": "markdown",
   "metadata": {},
   "source": [
    "#### define image path"
   ]
  },
  {
   "cell_type": "code",
   "execution_count": 35,
   "metadata": {},
   "outputs": [],
   "source": [
    "file_path = './images/Cellcounting_Example.jpeg'\n",
    "results_path = './results/'"
   ]
  },
  {
   "cell_type": "markdown",
   "metadata": {},
   "source": [
    "#### create our cell detector"
   ]
  },
  {
   "cell_type": "code",
   "execution_count": 14,
   "metadata": {},
   "outputs": [],
   "source": [
    "C = mcd()"
   ]
  },
  {
   "cell_type": "markdown",
   "metadata": {},
   "source": [
    "#### load image - convert to grayscale - blur"
   ]
  },
  {
   "cell_type": "code",
   "execution_count": 15,
   "metadata": {},
   "outputs": [],
   "source": [
    "frame = C.read_file(file_path)\n",
    "gray = C.gray_frame(frame)\n",
    "blur = C.blur_frame(gray, kernel = (3,3), filterType = 'median')"
   ]
  },
  {
   "cell_type": "code",
   "execution_count": 54,
   "metadata": {},
   "outputs": [],
   "source": [
    "fr_im = im(frame)\n",
    "bl_im = im(scale(saturate(blur, 50)))"
   ]
  },
  {
   "cell_type": "code",
   "execution_count": null,
   "metadata": {},
   "outputs": [],
   "source": []
  },
  {
   "cell_type": "markdown",
   "metadata": {},
   "source": [
    "#### save images"
   ]
  },
  {
   "cell_type": "code",
   "execution_count": 56,
   "metadata": {},
   "outputs": [],
   "source": [
    "imwrite(results_path + 'orginal.png', frame.swapaxes(0,1))\n",
    "imwrite(results_path + 'blur.png', scale(saturate(blur.swapaxes(0,1), 50)))"
   ]
  },
  {
   "cell_type": "markdown",
   "metadata": {},
   "source": [
    "#### find threshold or set manually"
   ]
  },
  {
   "cell_type": "code",
   "execution_count": 57,
   "metadata": {},
   "outputs": [
    {
     "name": "stdout",
     "output_type": "stream",
     "text": [
      "99th percentile: 1.0\n"
     ]
    }
   ],
   "source": [
    "perc= 99\n",
    "pVal_l = C.get_percentile(blur, perc = perc)\n",
    "print('{0}th percentile: {1}'.format(perc, pVal_l))\n",
    "pVal_l = 4"
   ]
  },
  {
   "cell_type": "markdown",
   "metadata": {},
   "source": [
    "#### morphological operators: mask, erode and dilate"
   ]
  },
  {
   "cell_type": "code",
   "execution_count": 58,
   "metadata": {},
   "outputs": [],
   "source": [
    "mask, masked =  C.mask_frame(blur, pVal_l = pVal_l)"
   ]
  },
  {
   "cell_type": "code",
   "execution_count": 59,
   "metadata": {},
   "outputs": [],
   "source": [
    "imwrite(results_path + 'raw_mask_' +str(pVal_l) + '.png', scale(mask).swapaxes(0,1))\n",
    "imwrite(results_path + 'masked_' +str(pVal_l) + '.png', scale(masked).swapaxes(0,1))"
   ]
  },
  {
   "cell_type": "code",
   "execution_count": 60,
   "metadata": {},
   "outputs": [],
   "source": [
    "### this erodes/dilated the mask itself\n",
    "eMask = C.erode_frame(mask, ker = 5)\n",
    "dMask = C.dilate_frame(eMask, ker = 5)\n",
    "\n",
    "### this erodes/dilated the masked image\n",
    "eFr = C.erode_frame(masked, ker = 5)\n",
    "dFr = C.dilate_frame(eFr, ker = 5)"
   ]
  },
  {
   "cell_type": "markdown",
   "metadata": {},
   "source": [
    "#### visualise"
   ]
  },
  {
   "cell_type": "code",
   "execution_count": 61,
   "metadata": {},
   "outputs": [],
   "source": [
    "m_im = im(mask, 'mask')\n",
    "e_im = im(eMask, 'eroded')\n",
    "d_im = im(dMask, 'eroded + dilated')"
   ]
  },
  {
   "cell_type": "code",
   "execution_count": 62,
   "metadata": {},
   "outputs": [],
   "source": [
    "mF_im = im(masked, 'mask')\n",
    "eF_im = im(eFr, 'eroded')\n",
    "dF_im = im(dFr, 'eroded + dilated')"
   ]
  },
  {
   "cell_type": "code",
   "execution_count": 63,
   "metadata": {},
   "outputs": [],
   "source": [
    "# rload(mcd)\n",
    "# from MyCellDetector import MyCellDetector as mcd\n",
    "# C = mcd()"
   ]
  },
  {
   "cell_type": "markdown",
   "metadata": {},
   "source": [
    "#### detect contours and filter on area size\n",
    "(we can also filter on convextity/other criteria if you want)"
   ]
  },
  {
   "cell_type": "code",
   "execution_count": 64,
   "metadata": {},
   "outputs": [],
   "source": [
    "area_mn = 4\n",
    "area_mx = 1e10"
   ]
  },
  {
   "cell_type": "code",
   "execution_count": 65,
   "metadata": {},
   "outputs": [],
   "source": [
    "### finds keypoints of eroded + dilated masked image\n",
    "keypoints = C.countour_frame(dFr, area_mn = area_mn, area_mx = area_mx, keypoints = {})\n",
    "### finds keypoints of eroded + dilated mask\n",
    "keypointsMask = C.countour_frame(dMask, area_mn = area_mn, area_mx = area_mx, keypoints = {})"
   ]
  },
  {
   "cell_type": "markdown",
   "metadata": {},
   "source": [
    "#### overlay"
   ]
  },
  {
   "cell_type": "code",
   "execution_count": 66,
   "metadata": {},
   "outputs": [],
   "source": [
    "dispImCont, dispImCenter, dispImBox = C.print_keypoints(keypoints[0],frame, col = (0,100,0))\n",
    "dispMaskCont, dispMaskCenter, dispMaskBox = C.print_keypoints(keypoints[0],mask*255,  col = (255,0,0))"
   ]
  },
  {
   "cell_type": "code",
   "execution_count": 67,
   "metadata": {},
   "outputs": [],
   "source": [
    "dispImCenter_ = write2im(dispImCenter)\n",
    "dispMaskCenter_ = write2im(dispMaskCenter)"
   ]
  },
  {
   "cell_type": "code",
   "execution_count": 68,
   "metadata": {},
   "outputs": [
    {
     "data": {
      "text/plain": [
       "<MyImageViewer.MyImageViewer at 0x1a3b725f78>"
      ]
     },
     "execution_count": 68,
     "metadata": {},
     "output_type": "execute_result"
    }
   ],
   "source": [
    "im(scale(saturate(dispImCenter_)))"
   ]
  },
  {
   "cell_type": "code",
   "execution_count": 69,
   "metadata": {},
   "outputs": [],
   "source": [
    "ims = [dispImCont, dispImCenter_, dispImBox, dispMaskCont, dispMaskCenter_, dispMaskBox]"
   ]
  },
  {
   "cell_type": "code",
   "execution_count": 70,
   "metadata": {},
   "outputs": [],
   "source": [
    "scaled_ims = [scale(saturate(my_image)) for my_image in ims]"
   ]
  },
  {
   "cell_type": "code",
   "execution_count": 71,
   "metadata": {},
   "outputs": [],
   "source": [
    "names = ['detection_wContours_', 'detection_wCenters_', 'detection_wBox_',\\\n",
    "         'mask_wContours_', 'mask_wCenters_' ,  'mask_wBox_']"
   ]
  },
  {
   "cell_type": "code",
   "execution_count": 72,
   "metadata": {},
   "outputs": [],
   "source": [
    "tmp = [imwrite(results_path + names[ind] +str(pVal_l) + '.png', im_.swapaxes(0,1))  for ind, im_ in enumerate(scaled_ims)]"
   ]
  },
  {
   "cell_type": "markdown",
   "metadata": {},
   "source": []
  },
  {
   "cell_type": "code",
   "execution_count": 70,
   "metadata": {},
   "outputs": [],
   "source": [
    "t2 = im(saturate(dispImCenter_))"
   ]
  },
  {
   "cell_type": "code",
   "execution_count": 71,
   "metadata": {},
   "outputs": [],
   "source": [
    "t1 = im(saturate(dispImCont))\n",
    "t3 = im(saturate(dispImBox))"
   ]
  },
  {
   "cell_type": "code",
   "execution_count": 72,
   "metadata": {},
   "outputs": [],
   "source": [
    "t1 = im(dispMaskCont)\n",
    "t2 = im(dispMaskCenter)\n",
    "t3 = im(dispMaskBox)"
   ]
  }
 ],
 "metadata": {
  "kernelspec": {
   "display_name": "Python [default]",
   "language": "python",
   "name": "python3"
  },
  "language_info": {
   "codemirror_mode": {
    "name": "ipython",
    "version": 3
   },
   "file_extension": ".py",
   "mimetype": "text/x-python",
   "name": "python",
   "nbconvert_exporter": "python",
   "pygments_lexer": "ipython3",
   "version": "3.5.3"
  }
 },
 "nbformat": 4,
 "nbformat_minor": 2
}
